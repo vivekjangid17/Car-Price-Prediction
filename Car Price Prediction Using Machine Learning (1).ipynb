{
 "cells": [
  {
   "cell_type": "code",
   "execution_count": 41,
   "metadata": {},
   "outputs": [],
   "source": [
    "# 1. Import Libraries\n",
    "import pandas as pd\n",
    "import datetime\n",
    "import seaborn as sns\n",
    "import matplotlib.pyplot as plt\n",
    "from sklearn.model_selection import train_test_split\n",
    "from sklearn.linear_model import LinearRegression\n",
    "from sklearn.ensemble import RandomForestRegressor\n",
    "from sklearn.ensemble import GradientBoostingRegressor\n",
    "from xgboost import XGBRegressor\n",
    "from sklearn import metrics\n",
    "import joblib"
   ]
  },
  {
   "cell_type": "code",
   "execution_count": 42,
   "metadata": {},
   "outputs": [],
   "source": [
    "# Suppress warnings for a cleaner output\n",
    "import warnings\n",
    "warnings.filterwarnings('ignore')"
   ]
  },
  {
   "cell_type": "code",
   "execution_count": 43,
   "metadata": {},
   "outputs": [
    {
     "name": "stdout",
     "output_type": "stream",
     "text": [
      "Dataset loaded successfully.\n"
     ]
    }
   ],
   "source": [
    "# 2. Load the Dataset\n",
    "try:\n",
    "    data = pd.read_csv('car_dataset.csv')\n",
    "    print(\"Dataset loaded successfully.\")\n",
    "except FileNotFoundError:\n",
    "    print(\"Error: 'car_dataset.csv' not found. Make sure the file is in the same directory.\")\n",
    "    exit()"
   ]
  },
  {
   "cell_type": "code",
   "execution_count": 44,
   "metadata": {},
   "outputs": [
    {
     "name": "stdout",
     "output_type": "stream",
     "text": [
      "\n",
      "First 5 rows of the dataset:\n",
      "                       name  year  selling_price  km_driven    fuel  \\\n",
      "0             Maruti 800 AC  2007          60000      70000  Petrol   \n",
      "1  Maruti Wagon R LXI Minor  2007         135000      50000  Petrol   \n",
      "2      Hyundai Verna 1.6 SX  2012         600000     100000  Diesel   \n",
      "3    Datsun RediGO T Option  2017         250000      46000  Petrol   \n",
      "4     Honda Amaze VX i-DTEC  2014         450000     141000  Diesel   \n",
      "\n",
      "  seller_type transmission         owner  \n",
      "0  Individual       Manual   First Owner  \n",
      "1  Individual       Manual   First Owner  \n",
      "2  Individual       Manual   First Owner  \n",
      "3  Individual       Manual   First Owner  \n",
      "4  Individual       Manual  Second Owner  \n",
      "\n",
      "Shape of the dataset: (4340, 8)\n",
      "\n",
      "Dataset Info:\n",
      "<class 'pandas.core.frame.DataFrame'>\n",
      "RangeIndex: 4340 entries, 0 to 4339\n",
      "Data columns (total 8 columns):\n",
      " #   Column         Non-Null Count  Dtype \n",
      "---  ------         --------------  ----- \n",
      " 0   name           4340 non-null   object\n",
      " 1   year           4340 non-null   int64 \n",
      " 2   selling_price  4340 non-null   int64 \n",
      " 3   km_driven      4340 non-null   int64 \n",
      " 4   fuel           4340 non-null   object\n",
      " 5   seller_type    4340 non-null   object\n",
      " 6   transmission   4340 non-null   object\n",
      " 7   owner          4340 non-null   object\n",
      "dtypes: int64(3), object(5)\n",
      "memory usage: 271.4+ KB\n"
     ]
    }
   ],
   "source": [
    "# 3. Initial Data Exploration\n",
    "print(\"\\nFirst 5 rows of the dataset:\")\n",
    "print(data.head())\n",
    "\n",
    "print(f\"\\nShape of the dataset: {data.shape}\")\n",
    "\n",
    "print(\"\\nDataset Info:\")\n",
    "data.info()"
   ]
  },
  {
   "cell_type": "code",
   "execution_count": 45,
   "metadata": {},
   "outputs": [
    {
     "name": "stdout",
     "output_type": "stream",
     "text": [
      "\n",
      "Dataset after adding 'age' and dropping 'year' and 'name':\n",
      "   selling_price  km_driven    fuel seller_type transmission         owner  \\\n",
      "0          60000      70000  Petrol  Individual       Manual   First Owner   \n",
      "1         135000      50000  Petrol  Individual       Manual   First Owner   \n",
      "2         600000     100000  Diesel  Individual       Manual   First Owner   \n",
      "3         250000      46000  Petrol  Individual       Manual   First Owner   \n",
      "4         450000     141000  Diesel  Individual       Manual  Second Owner   \n",
      "\n",
      "   age  \n",
      "0   18  \n",
      "1   18  \n",
      "2   13  \n",
      "3    8  \n",
      "4   11  \n",
      "\n",
      "Shape of the dataset after removing outliers: (4338, 7)\n",
      "\n",
      "Unique values in categorical columns:\n",
      "Fuel: ['Petrol' 'Diesel' 'CNG' 'LPG' 'Electric']\n",
      "Seller Type: ['Individual' 'Dealer' 'Trustmark Dealer']\n",
      "Transmission: ['Manual' 'Automatic']\n",
      "Owner: ['First Owner' 'Second Owner' 'Fourth & Above Owner' 'Third Owner'\n",
      " 'Test Drive Car']\n",
      "\n",
      "Dataset after encoding categorical features:\n",
      "   selling_price  km_driven  fuel  seller_type  transmission  owner  age\n",
      "0          60000      70000     0            0             0      0   18\n",
      "1         135000      50000     0            0             0      0   18\n",
      "2         600000     100000     1            0             0      0   13\n",
      "3         250000      46000     0            0             0      0    8\n",
      "4         450000     141000     1            0             0      1   11\n"
     ]
    }
   ],
   "source": [
    "# 4. Data Preprocessing\n",
    "# Create 'age' feature from 'year'\n",
    "current_year = datetime.datetime.now().year\n",
    "data['age'] = current_year - data['year']\n",
    "\n",
    "# Drop the original 'year' and 'name' columns\n",
    "data.drop(['year', 'name'], axis=1, inplace=True)\n",
    "\n",
    "print(\"\\nDataset after adding 'age' and dropping 'year' and 'name':\")\n",
    "print(data.head())\n",
    "\n",
    "# Correct Outlier Removal\n",
    "# The original dataset has a few cars with extremely high prices.\n",
    "# We will remove cars with a selling price greater than 60 lakhs to handle extreme outliers.\n",
    "data = data[data['selling_price'] < 6000000]\n",
    "print(f\"\\nShape of the dataset after removing outliers: {data.shape}\")\n",
    "\n",
    "\n",
    "# Encoding Categorical Columns\n",
    "# Check unique values before mapping\n",
    "print(\"\\nUnique values in categorical columns:\")\n",
    "print(\"Fuel:\", data['fuel'].unique())\n",
    "print(\"Seller Type:\", data['seller_type'].unique())\n",
    "print(\"Transmission:\", data['transmission'].unique())\n",
    "print(\"Owner:\", data['owner'].unique())\n",
    "\n",
    "# Map categorical values to numerical ones\n",
    "data['fuel'] = data['fuel'].map({'Petrol':0, 'Diesel':1, 'CNG':2, 'LPG':3, 'Electric':4})\n",
    "data['seller_type'] = data['seller_type'].map({'Individual':0, 'Dealer':1, 'Trustmark Dealer':2})\n",
    "data['transmission'] = data['transmission'].map({'Manual':0, 'Automatic':1})\n",
    "data['owner'] = data['owner'].map({'First Owner':0, 'Second Owner':1, 'Third Owner':2, 'Fourth & Above Owner':3, 'Test Drive Car':4})\n",
    "\n",
    "# Handle any potential NaN values created if a category was missed in the map\n",
    "data.dropna(inplace=True)\n",
    "\n",
    "print(\"\\nDataset after encoding categorical features:\")\n",
    "print(data.head())"
   ]
  },
  {
   "cell_type": "code",
   "execution_count": 46,
   "metadata": {},
   "outputs": [
    {
     "name": "stdout",
     "output_type": "stream",
     "text": [
      "\n",
      "Shape of feature matrix X: (4338, 6)\n",
      "Shape of target vector y: (4338,)\n"
     ]
    }
   ],
   "source": [
    "# 5. Store Feature Matrix (X) and Target Vector (y)\n",
    "X = data.drop('selling_price', axis=1)\n",
    "y = data['selling_price']\n",
    "\n",
    "print(\"\\nShape of feature matrix X:\", X.shape)\n",
    "print(\"Shape of target vector y:\", y.shape)"
   ]
  },
  {
   "cell_type": "code",
   "execution_count": 47,
   "metadata": {},
   "outputs": [
    {
     "name": "stdout",
     "output_type": "stream",
     "text": [
      "\n",
      "Data split into training and testing sets successfully.\n",
      "X_train shape: (3470, 6)\n",
      "X_test shape: (868, 6)\n"
     ]
    }
   ],
   "source": [
    "# 6. Splitting The Dataset Into Training and Test Sets\n",
    "X_train, X_test, y_train, y_test = train_test_split(X, y, test_size=0.20, random_state=42)\n",
    "print(\"\\nData split into training and testing sets successfully.\")\n",
    "print(\"X_train shape:\", X_train.shape)\n",
    "print(\"X_test shape:\", X_test.shape)"
   ]
  },
  {
   "cell_type": "code",
   "execution_count": 48,
   "metadata": {},
   "outputs": [
    {
     "name": "stdout",
     "output_type": "stream",
     "text": [
      "\n",
      "Training models...\n",
      "Models trained successfully.\n"
     ]
    }
   ],
   "source": [
    "# 7. Model Training\n",
    "print(\"\\nTraining models...\")\n",
    "lr = LinearRegression()\n",
    "lr.fit(X_train, y_train)\n",
    "\n",
    "rf = RandomForestRegressor()\n",
    "rf.fit(X_train, y_train)\n",
    "\n",
    "gbr = GradientBoostingRegressor()\n",
    "gbr.fit(X_train, y_train)\n",
    "\n",
    "xg = XGBRegressor()\n",
    "xg.fit(X_train, y_train)\n",
    "print(\"Models trained successfully.\")"
   ]
  },
  {
   "cell_type": "code",
   "execution_count": 49,
   "metadata": {},
   "outputs": [
    {
     "name": "stdout",
     "output_type": "stream",
     "text": [
      "\n",
      "Model R2 Scores:\n",
      "Linear Regression: 0.37044340442518764\n",
      "Random Forest: 0.7005494308598251\n",
      "Gradient Boosting: 0.63678699972221\n",
      "XGBoost: 0.6902743577957153\n",
      "\n",
      "Model Performance Comparison:\n",
      "  Models  R2_SCORE\n",
      "0     LR  0.370443\n",
      "1     RF  0.700549\n",
      "2    GBR  0.636787\n",
      "3     XG  0.690274\n"
     ]
    },
    {
     "data": {
      "image/png": "[encoded data removed]",
      "text/plain": [
       "<Figure size 640x480 with 1 Axes>"
      ]
     },
     "metadata": {},
     "output_type": "display_data"
    }
   ],
   "source": [
    "# 8. Evaluating the Models\n",
    "y_pred1 = lr.predict(X_test)\n",
    "y_pred2 = rf.predict(X_test)\n",
    "y_pred3 = gbr.predict(X_test)\n",
    "y_pred4 = xg.predict(X_test)\n",
    "\n",
    "score1 = metrics.r2_score(y_test, y_pred1)\n",
    "score2 = metrics.r2_score(y_test, y_pred2)\n",
    "score3 = metrics.r2_score(y_test, y_pred3)\n",
    "score4 = metrics.r2_score(y_test, y_pred4)\n",
    "\n",
    "print(\"\\nModel R2 Scores:\")\n",
    "print(\"Linear Regression:\", score1)\n",
    "print(\"Random Forest:\", score2)\n",
    "print(\"Gradient Boosting:\", score3)\n",
    "print(\"XGBoost:\", score4)\n",
    "\n",
    "# Create a DataFrame for comparison\n",
    "final_data = pd.DataFrame({\n",
    "    'Models': ['LR', 'RF', 'GBR', 'XG'],\n",
    "    'R2_SCORE': [score1, score2, score3, score4]\n",
    "})\n",
    "\n",
    "print(\"\\nModel Performance Comparison:\")\n",
    "print(final_data)\n",
    "\n",
    "# Visualize model performance\n",
    "sns.barplot(x='Models', y='R2_SCORE', data=final_data)\n",
    "plt.title('Model R2 Score Comparison')\n",
    "plt.show()"
   ]
  },
  {
   "cell_type": "code",
   "execution_count": 50,
   "metadata": {},
   "outputs": [
    {
     "name": "stdout",
     "output_type": "stream",
     "text": [
      "\n",
      "Best model (XGBoost) saved as 'car_price_predictor.joblib'\n"
     ]
    }
   ],
   "source": [
    "# 9. Save The Best Model (XGBoost)\n",
    "# We retrain the best model on the entire dataset\n",
    "xg_final = XGBRegressor()\n",
    "xg_final.fit(X, y)\n",
    "\n",
    "joblib.dump(xg_final, 'car_price_predictor.joblib')\n",
    "print(\"\\nBest model (XGBoost) saved as 'car_price_predictor.joblib'\")\n"
   ]
  },
  {
   "cell_type": "code",
   "execution_count": 51,
   "metadata": {},
   "outputs": [
    {
     "name": "stdout",
     "output_type": "stream",
     "text": [
      "\n",
      "Predicted price for the new data: ₹507,165.50\n"
     ]
    }
   ],
   "source": [
    "# 10. Prediction on New Data\n",
    "# Load the saved model\n",
    "model = joblib.load('car_price_predictor.joblib')\n",
    "\n",
    "# Create a new data sample with the correct column names and encoded values\n",
    "# Features: km_driven, fuel, seller_type, transmission, owner, age\n",
    "# Example: Predict price for a car with:\n",
    "# km_driven=27000, fuel='Petrol'(0), seller_type='Dealer'(1), \n",
    "# transmission='Manual'(0), owner='First Owner'(0), age=8\n",
    "new_data_dict = {\n",
    "    'km_driven': 27000,\n",
    "    'fuel': 0,        # Petrol\n",
    "    'seller_type': 1, # Dealer\n",
    "    'transmission': 0,# Manual\n",
    "    'owner': 0,       # First Owner\n",
    "    'age': 8\n",
    "}\n",
    "data_new = pd.DataFrame(new_data_dict, index=[0])\n",
    "\n",
    "prediction = model.predict(data_new)\n",
    "print(f\"\\nPredicted price for the new data: ₹{prediction[0]:,.2f}\")\n"
   ]
  },
  {
   "cell_type": "code",
   "execution_count": 52,
   "metadata": {},
   "outputs": [],
   "source": [
    "# 11. GUI (Optional, requires tkinter)\n",
    "# Note: To run this part, you need a desktop environment.\n",
    "# It might not work in some cloud-based notebook platforms.\n",
    "try:\n",
    "    from tkinter import *\n",
    "\n",
    "    def show_entry_fields():\n",
    "        try:\n",
    "            # Get values from GUI fields\n",
    "            km_driven = float(e1.get())\n",
    "            fuel = float(e2.get())\n",
    "            seller_type = float(e3.get())\n",
    "            transmission = float(e4.get())\n",
    "            owner = float(e5.get())\n",
    "            age = float(e6.get())\n",
    "            \n",
    "            # Create DataFrame for prediction\n",
    "            data_gui = pd.DataFrame({\n",
    "                'km_driven': km_driven,\n",
    "                'fuel': fuel,\n",
    "                'seller_type': seller_type,\n",
    "                'transmission': transmission,\n",
    "                'owner': owner,\n",
    "                'age': age\n",
    "            }, index=[0])\n",
    "            \n",
    "            # Predict\n",
    "            result = model.predict(data_gui)\n",
    "            result_text = f\"Predicted Price: ₹{result[0]:,.2f}\"\n",
    "            \n",
    "            # Display result\n",
    "            result_label.config(text=result_text)\n",
    "\n",
    "        except ValueError:\n",
    "            result_label.config(text=\"Error: Please enter valid numbers.\")\n",
    "        except Exception as e:\n",
    "            result_label.config(text=f\"An error occurred: {e}\")\n",
    "\n",
    "    master = Tk()\n",
    "    master.title(\"Car Price Prediction\")\n",
    "\n",
    "    Label(master, text=\"Car Price Prediction Model\", bg=\"black\", fg=\"white\").grid(row=0, columnspan=2, pady=10)\n",
    "\n",
    "    # Input fields with correct labels\n",
    "    Label(master, text=\"Kilometers Driven\").grid(row=1, sticky=W, padx=10)\n",
    "    Label(master, text=\"Fuel Type (Petrol=0, Diesel=1, etc.)\").grid(row=2, sticky=W, padx=10)\n",
    "    Label(master, text=\"Seller Type (Individual=0, Dealer=1)\").grid(row=3, sticky=W, padx=10)\n",
    "    Label(master, text=\"Transmission (Manual=0, Automatic=1)\").grid(row=4, sticky=W, padx=10)\n",
    "    Label(master, text=\"Owner (First=0, Second=1, etc.)\").grid(row=5, sticky=W, padx=10)\n",
    "    Label(master, text=\"Age of Car (in years)\").grid(row=6, sticky=W, padx=10)\n",
    "\n",
    "    e1 = Entry(master)\n",
    "    e2 = Entry(master)\n",
    "    e3 = Entry(master)\n",
    "    e4 = Entry(master)\n",
    "    e5 = Entry(master)\n",
    "    e6 = Entry(master)\n",
    "\n",
    "    e1.grid(row=1, column=1, padx=10)\n",
    "    e2.grid(row=2, column=1, padx=10)\n",
    "    e3.grid(row=3, column=1, padx=10)\n",
    "    e4.grid(row=4, column=1, padx=10)\n",
    "    e5.grid(row=5, column=1, padx=10)\n",
    "    e6.grid(row=6, column=1, padx=10)\n",
    "\n",
    "    Button(master, text='Predict', command=show_entry_fields).grid(row=7, columnspan=2, pady=10)\n",
    "\n",
    "    result_label = Label(master, text=\"\", font=(\"Helvetica\", 12))\n",
    "    result_label.grid(row=8, columnspan=2, pady=10)\n",
    "    \n",
    "    # Add a quit button\n",
    "    Button(master, text='Quit', command=master.quit).grid(row=9, columnspan=2, pady=5)\n",
    "\n",
    "    mainloop()\n",
    "\n",
    "except ImportError:\n",
    "    print(\"\\nTkinter library not found. GUI cannot be launched.\")\n",
    "except Exception as e:\n",
    "    print(f\"\\nAn error occurred while trying to launch the GUI: {e}\")\n"
   ]
  },
  {
   "cell_type": "code",
   "execution_count": null,
   "metadata": {},
   "outputs": [],
   "source": []
  }
 ],
 "metadata": {
  "kernelspec": {
   "display_name": "Python (myenv)",
   "language": "python",
   "name": "myenv"
  },
  "language_info": {
   "codemirror_mode": {
    "name": "ipython",
    "version": 3
   },
   "file_extension": ".py",
   "mimetype": "text/x-python",
   "name": "python",
   "nbconvert_exporter": "python",
   "pygments_lexer": "ipython3",
   "version": "3.13.7"
  }
 },
 "nbformat": 4,
 "nbformat_minor": 4
}
